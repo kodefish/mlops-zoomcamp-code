{
 "cells": [
  {
   "cell_type": "code",
   "execution_count": 1,
   "id": "8f35fcaa",
   "metadata": {},
   "outputs": [],
   "source": [
    "import pandas as pd\n",
    "import seaborn as sns\n",
    "import matplotlib.pyplot as plt\n",
    "\n",
    "from sklearn.feature_extraction import DictVectorizer"
   ]
  },
  {
   "cell_type": "code",
   "execution_count": 2,
   "id": "ac3e9e1f-531a-46ce-b5b1-7b7bd086fde5",
   "metadata": {},
   "outputs": [],
   "source": [
    "def load_dataset(filename):\n",
    "    # Read the parquet file\n",
    "    fhv_jan_data = pd.read_parquet(filename)\n",
    "    print(f\"Q1: There are {len(fhv_jan_data):_} records in the {filename.split('/')[-1]} dataset.\")\n",
    "\n",
    "    # Compute the duration of each ride in minutes\n",
    "    fhv_jan_data[\"duration_minutes\"] = (fhv_jan_data[\"dropOff_datetime\"] - fhv_jan_data[\"pickup_datetime\"]).dt.total_seconds() / 60\n",
    "    fhv_jan_data[\"duration_minutes\"] = fhv_jan_data[\"duration_minutes\"].round(decimals=2)\n",
    "    print(f\"Q2: The average trip duration in minutes is {fhv_jan_data['duration_minutes'].mean():.2f}\")\n",
    "\n",
    "    # Filter out outliers by keeping trips between 1 and 60 minutes\n",
    "    min_duration = 1\n",
    "    max_duration = 60\n",
    "    filtered_fhv_jan_data = fhv_jan_data.query(\"@min_duration <= duration_minutes and duration_minutes <= @max_duration\").copy()\n",
    "    num_dropped_records = len(fhv_jan_data) - len(filtered_fhv_jan_data)\n",
    "    print(f\"Q3: Only keeping trips with duration between {min_duration} and {max_duration} minutes: {num_dropped_records:_} records dropped\")\n",
    "\n",
    "    # Filling missing values \n",
    "    filtered_fhv_jan_data[\"PUlocationID\"] = filtered_fhv_jan_data[\"PUlocationID\"].fillna(-1)\n",
    "    filtered_fhv_jan_data[\"DOlocationID\"] = filtered_fhv_jan_data[\"DOlocationID\"].fillna(-1)\n",
    "    pct_na_po_location_ids = len(filtered_fhv_jan_data.query(\"PUlocationID < 0 \")) / len(filtered_fhv_jan_data)\n",
    "    pct_na_do_location_ids = len(filtered_fhv_jan_data.query(\"DOlocationID < 0 \")) / len(filtered_fhv_jan_data.query(\"DOlocationID >= 0 \"))\n",
    "    print(f\"Q3: {pct_na_po_location_ids * 100:.2f}% of records have missing pickup location ids.\")\n",
    "    print(f\"Q3: {pct_na_do_location_ids * 100:.2f}% of records have missing dropoff location ids.\")\n",
    "\n",
    "    # Create train x and y\n",
    "    print(\"Vectorizing features...\") \n",
    "    categorical = [\"PUlocationID\", \"DOlocationID\"]\n",
    "    train_dicts = filtered_fhv_jan_data[categorical].to_dict(orient=\"records\")\n",
    "    dv = DictVectorizer()\n",
    "    X_train = dv.fit_transform(train_dicts)\n",
    "    print(f\"Q4: X_train has {X_train.shape[1]} columns\")\n",
    "\n",
    "    target = [\"duration_minutes\"]\n",
    "    y_train = filtered_fhv_jan_data[target].values\n",
    "    \n",
    "    return X_train, y_train"
   ]
  },
  {
   "cell_type": "code",
   "execution_count": 3,
   "id": "c27ab474-448e-4374-8ff8-c38d337afb2d",
   "metadata": {},
   "outputs": [
    {
     "name": "stdout",
     "output_type": "stream",
     "text": [
      "Q1: There are 1_154_112 records in the fhv_tripdata_2021-01.parquet dataset.\n",
      "Q2: The average trip duration in minutes is 19.17\n",
      "Q3: Only keeping trips with duration between 1 and 60 minutes: 44_286 records dropped\n",
      "Q3: 83.53% of records have missing pickup location ids.\n",
      "Q3: 15.38% of records have missing dropoff location ids.\n",
      "Vectorizing features...\n",
      "Q4: X_train has 2 columns\n",
      "Q5: RMSE on training data: 11.42\n"
     ]
    }
   ],
   "source": [
    "from sklearn.linear_model import LinearRegression\n",
    "from sklearn.metrics import mean_squared_error\n",
    "\n",
    "# Load\n",
    "train_filename = \"./data/fhv_tripdata_2021-01.parquet\"\n",
    "X_train, y_train = load_dataset(train_filename)\n",
    "\n",
    "# Train\n",
    "lr = LinearRegression()\n",
    "lr.fit(X_train, y_train)\n",
    "\n",
    "# Evaluate\n",
    "y_pred = lr.predict(X_train)\n",
    "rmse_train = mean_squared_error(y_train, y_pred, squared=False)\n",
    "\n",
    "print(f\"Q5: RMSE on training data: {rmse_train:.2f}\")"
   ]
  },
  {
   "cell_type": "code",
   "execution_count": 4,
   "id": "9ff4cbca-88a1-41d6-a583-d415859895cc",
   "metadata": {},
   "outputs": [
    {
     "name": "stdout",
     "output_type": "stream",
     "text": [
      "Q1: There are 1_037_692 records in the fhv_tripdata_2021-02.parquet dataset.\n",
      "Q2: The average trip duration in minutes is 20.71\n",
      "Q3: Only keeping trips with duration between 1 and 60 minutes: 47_579 records dropped\n",
      "Q3: 85.71% of records have missing pickup location ids.\n",
      "Q3: 15.75% of records have missing dropoff location ids.\n",
      "Vectorizing features...\n",
      "Q4: X_train has 2 columns\n",
      "Q5: RMSE on training data: 11.86\n"
     ]
    }
   ],
   "source": [
    "# Load\n",
    "val_filename = \"./data/fhv_tripdata_2021-02.parquet\"\n",
    "X_val, y_val = load_dataset(val_filename)\n",
    "\n",
    "# Evaluate\n",
    "y_pred = lr.predict(X_val)\n",
    "rmse_val = mean_squared_error(y_val, y_pred, squared=False)\n",
    "\n",
    "print(f\"Q5: RMSE on training data: {rmse_val:.2f}\")"
   ]
  },
  {
   "cell_type": "code",
   "execution_count": null,
   "id": "5a0bcf3c-da6b-4593-a4e0-5475e8b29663",
   "metadata": {},
   "outputs": [],
   "source": []
  }
 ],
 "metadata": {
  "kernelspec": {
   "display_name": "Python 3 (ipykernel)",
   "language": "python",
   "name": "python3"
  },
  "language_info": {
   "codemirror_mode": {
    "name": "ipython",
    "version": 3
   },
   "file_extension": ".py",
   "mimetype": "text/x-python",
   "name": "python",
   "nbconvert_exporter": "python",
   "pygments_lexer": "ipython3",
   "version": "3.9.12"
  }
 },
 "nbformat": 4,
 "nbformat_minor": 5
}
